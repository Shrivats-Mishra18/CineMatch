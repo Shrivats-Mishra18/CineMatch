import numpy as np
import pandas as pd
import ast

credits = pd.read_csv('tmdb_5000_credits.csv')
movies = pd.read_csv('tmdb_5000_movies.csv')

movies.head()

movies=movies.merge(credits, on='title')

movies.shape

movies=movies[['movie_id','title','overview','genres','keywords','cast','crew']]

movies['movie_id']

movies.head()

movies.isnull().sum()

movies.dropna(inplace=True)

movies.isnull().sum()

movies.duplicated().sum()

movies.iloc[0].genres

def convert(obj):
  L=[]
  for i in ast.literal_eval(obj):
      L.append(i['name'])
  return L

def convert3(obj):
  L=[]
  cnt=0;
  for i in ast.literal_eval(obj):
      if cnt!=3:
        L.append(i['name'])
        cnt+=1
      else:
        break
  return L

movies['genres']=movies['genres'].apply(convert)

movies['keywords']=movies['keywords'].apply(convert)
movies['cast']=movies['cast'].apply(convert3)
movies.head()


movies['cast']

def fetch_director(obj):
    L = []
    try:
        for i in ast.literal_eval(obj):
            if i['job'] == 'Director':
                L.append(i['name'])
    except (ValueError, SyntaxError):
        return None
    return L

movies['crew']=movies['crew'].apply(fetch_director)

movies.head()

movies['overview']=movies['overview'].apply(lambda  x:x.split())

movies['genres']=movies['genres'].apply(lambda x:[i.replace(" ","") for i in x])
movies['keywords']=movies['keywords'].apply(lambda x:[i.replace(" ","") for i in x])
movies['cast']=movies['cast'].apply(lambda x:[i.replace(" ","") for i in x] if x is not None else [])

movies.head()

movies['crew']=movies['crew'].apply(lambda x:[i.replace(" ","") for i in x]if x is not None else [])


movies['tags']=movies['overview']+movies['genres']+movies['keywords']+movies['cast']+movies['crew']

movies.head()

movies['tags'][0]

new_df=movies[['movie_id','title','tags']]

new_df.head()

new_df['tags']=new_df['tags'].apply(lambda x:" ".join(x))

from sklearn.feature_extraction.text import CountVectorizer
cv = CountVectorizer(max_features=5000,stop_words='english')

vector = cv.fit_transform(new_df['tags']).toarray()
vector.shape

from sklearn.metrics.pairwise import cosine_similarity
similarity = cosine_similarity(vector)
similarity

new_df[new_df['title'] == 'The Lego Movie'].index[0]

def recommend(movie):
    index = new_df[new_df['title'] == movie].index[0]
    distances = sorted(list(enumerate(similarity[index])),reverse=True,key = lambda x: x[1])
    for i in distances[1:6]:
        print(new_df.iloc[i[0]].title)

recommend('Batman')

import pickle
pickle.dump(new_df,open('movie_list.pkl','wb'))
pickle.dump(similarity,open('similarity.pkl','wb'))

